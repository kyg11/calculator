{
 "cells": [
  {
   "cell_type": "code",
   "execution_count": 1,
   "id": "58ee844f-4804-4e05-a64d-936e370f32c1",
   "metadata": {},
   "outputs": [],
   "source": [
    "import pandas as pd\n",
    "import pickle"
   ]
  },
  {
   "cell_type": "code",
   "execution_count": 2,
   "id": "446a399f-e609-4a38-ae44-3b31fec925dd",
   "metadata": {},
   "outputs": [],
   "source": [
    "data = pd.read_csv('train.csv')"
   ]
  },
  {
   "cell_type": "code",
   "execution_count": 3,
   "id": "9dc87cdc-1ed7-4e93-bbcd-cdd605bf87fe",
   "metadata": {},
   "outputs": [
    {
     "data": {
      "text/plain": [
       "(8693, 14)"
      ]
     },
     "execution_count": 3,
     "metadata": {},
     "output_type": "execute_result"
    }
   ],
   "source": [
    "data.shape"
   ]
  },
  {
   "cell_type": "code",
   "execution_count": 4,
   "id": "56011cf7-b91b-4b85-983a-f259268f1722",
   "metadata": {},
   "outputs": [
    {
     "data": {
      "text/plain": [
       "PassengerId       0\n",
       "HomePlanet      201\n",
       "CryoSleep       217\n",
       "Cabin           199\n",
       "Destination     182\n",
       "Age             179\n",
       "VIP             203\n",
       "RoomService     181\n",
       "FoodCourt       183\n",
       "ShoppingMall    208\n",
       "Spa             183\n",
       "VRDeck          188\n",
       "Name            200\n",
       "Transported       0\n",
       "dtype: int64"
      ]
     },
     "execution_count": 4,
     "metadata": {},
     "output_type": "execute_result"
    }
   ],
   "source": [
    "data.isnull().sum()"
   ]
  },
  {
   "cell_type": "code",
   "execution_count": 5,
   "id": "4c048f7a-e89c-4c1a-971d-82d03eb26979",
   "metadata": {},
   "outputs": [],
   "source": [
    "obj_list = []\n",
    "for types, column in zip(data.dtypes, data.columns) :\n",
    "    if types == 'object' :\n",
    "        obj_list.append(column)"
   ]
  },
  {
   "cell_type": "code",
   "execution_count": 6,
   "id": "a3eee20f-b1b2-44a1-8c16-99744f0611ad",
   "metadata": {},
   "outputs": [
    {
     "name": "stdout",
     "output_type": "stream",
     "text": [
      "HomePlanet ['Europa' 'Earth' 'Mars' nan]\n",
      "Earth     4602\n",
      "Europa    2131\n",
      "Mars      1759\n",
      "NaN        201\n",
      "Name: HomePlanet, dtype: int64\n",
      "CryoSleep [False True nan]\n",
      "False    5439\n",
      "True     3037\n",
      "NaN       217\n",
      "Name: CryoSleep, dtype: int64\n",
      "Cabin ['B/0/P' 'F/0/S' 'A/0/S' ... 'G/1499/S' 'G/1500/S' 'E/608/S']\n",
      "NaN        199\n",
      "G/734/S      8\n",
      "C/137/S      7\n",
      "B/201/P      7\n",
      "G/109/P      7\n",
      "          ... \n",
      "G/556/P      1\n",
      "E/231/S      1\n",
      "G/545/S      1\n",
      "G/543/S      1\n",
      "C/178/S      1\n",
      "Name: Cabin, Length: 6561, dtype: int64\n",
      "Destination ['TRAPPIST-1e' 'PSO J318.5-22' '55 Cancri e' nan]\n",
      "TRAPPIST-1e      5915\n",
      "55 Cancri e      1800\n",
      "PSO J318.5-22     796\n",
      "NaN               182\n",
      "Name: Destination, dtype: int64\n",
      "VIP [False True nan]\n",
      "False    8291\n",
      "NaN       203\n",
      "True      199\n",
      "Name: VIP, dtype: int64\n",
      "Name ['Maham Ofracculy' 'Juanna Vines' 'Altark Susent' ... 'Fayey Connon'\n",
      " 'Celeon Hontichre' 'Propsh Hontichre']\n",
      "NaN                   200\n",
      "Sus Coolez              2\n",
      "Elaney Webstephrey      2\n",
      "Dia Cartez              2\n",
      "Grake Porki             2\n",
      "                     ... \n",
      "Jamela Griffy           1\n",
      "Hardy Griffy            1\n",
      "Salley Mckinn           1\n",
      "Mall Frasp              1\n",
      "Propsh Hontichre        1\n",
      "Name: Name, Length: 8474, dtype: int64\n"
     ]
    }
   ],
   "source": [
    "for col in obj_list[1:] :\n",
    "    print(col, data[col].unique())\n",
    "    print(data[col].value_counts(dropna=False))"
   ]
  },
  {
   "cell_type": "markdown",
   "id": "79047272-b7b7-43ae-8792-6aa8e9e76c1b",
   "metadata": {},
   "source": [
    "-------"
   ]
  },
  {
   "cell_type": "code",
   "execution_count": 7,
   "id": "0ac36654-4bb1-4931-945b-eb5599b2cca3",
   "metadata": {},
   "outputs": [
    {
     "data": {
      "text/plain": [
       "Index(['PassengerId', 'HomePlanet', 'CryoSleep', 'Cabin', 'Destination', 'Age',\n",
       "       'VIP', 'RoomService', 'FoodCourt', 'ShoppingMall', 'Spa', 'VRDeck',\n",
       "       'Name', 'Transported'],\n",
       "      dtype='object')"
      ]
     },
     "execution_count": 7,
     "metadata": {},
     "output_type": "execute_result"
    }
   ],
   "source": [
    "data.columns"
   ]
  },
  {
   "cell_type": "code",
   "execution_count": 8,
   "id": "5d4ae2cc-df99-4135-818a-47066725f38a",
   "metadata": {},
   "outputs": [
    {
     "data": {
      "text/plain": [
       "Transported\n",
       "False    29.922858\n",
       "True     27.748834\n",
       "Name: Age, dtype: float64"
      ]
     },
     "execution_count": 8,
     "metadata": {},
     "output_type": "execute_result"
    }
   ],
   "source": [
    "data.groupby('Transported')['Age'].mean()"
   ]
  },
  {
   "cell_type": "code",
   "execution_count": 9,
   "id": "8db4feb1-ce8d-4e42-b753-b65580916244",
   "metadata": {},
   "outputs": [
    {
     "data": {
      "text/plain": [
       "VIP    Transported\n",
       "False  False          4093\n",
       "       True           4198\n",
       "True   False           123\n",
       "       True             76\n",
       "dtype: int64"
      ]
     },
     "execution_count": 9,
     "metadata": {},
     "output_type": "execute_result"
    }
   ],
   "source": [
    "data.groupby(['VIP','Transported']).size()"
   ]
  },
  {
   "cell_type": "code",
   "execution_count": 10,
   "id": "b407543c-b1e5-44e0-a95e-e854835019e0",
   "metadata": {},
   "outputs": [
    {
     "data": {
      "text/plain": [
       "VIP    HomePlanet\n",
       "False  Earth         4487\n",
       "       Europa        1958\n",
       "       Mars          1653\n",
       "True   Europa         131\n",
       "       Mars            63\n",
       "dtype: int64"
      ]
     },
     "execution_count": 10,
     "metadata": {},
     "output_type": "execute_result"
    }
   ],
   "source": [
    "data.groupby(['VIP','HomePlanet']).size()"
   ]
  },
  {
   "cell_type": "code",
   "execution_count": 11,
   "id": "92e2eb4c-80c0-4416-a8cc-eab6a3d70f04",
   "metadata": {},
   "outputs": [
    {
     "data": {
      "text/plain": [
       "Transported  HomePlanet\n",
       "False        Earth         2651\n",
       "             Europa         727\n",
       "             Mars           839\n",
       "True         Earth         1951\n",
       "             Europa        1404\n",
       "             Mars           920\n",
       "dtype: int64"
      ]
     },
     "execution_count": 11,
     "metadata": {},
     "output_type": "execute_result"
    }
   ],
   "source": [
    "data.groupby(['Transported','HomePlanet']).size()"
   ]
  },
  {
   "cell_type": "markdown",
   "id": "858b59d1-1162-44c2-b0ab-ac34d5340189",
   "metadata": {},
   "source": [
    "---------"
   ]
  },
  {
   "cell_type": "markdown",
   "id": "44f504e6-283b-4f2d-92c3-7aad01200d62",
   "metadata": {
    "tags": []
   },
   "source": [
    "## HomePlanet Null 처리"
   ]
  },
  {
   "cell_type": "code",
   "execution_count": 12,
   "id": "45b7eeda-7974-43c5-bacc-54b37e9df89d",
   "metadata": {},
   "outputs": [],
   "source": [
    "data['Group'] = data['PassengerId'].str[:4]\n",
    "# data['Group'] = data['PassengerId'].split('_').str[0]"
   ]
  },
  {
   "cell_type": "code",
   "execution_count": 13,
   "id": "9cce6d19-30b7-4975-afb8-a946b956e905",
   "metadata": {},
   "outputs": [],
   "source": [
    "home_group = data.groupby(['Group','HomePlanet']).size().reset_index()"
   ]
  },
  {
   "cell_type": "code",
   "execution_count": 14,
   "id": "519f8762-fbb7-4c56-ba7b-1fa5612b41e0",
   "metadata": {},
   "outputs": [],
   "source": [
    "home_dict = {}\n",
    "for g, hp in zip(home_group['Group'], home_group['HomePlanet']) :\n",
    "    home_dict[g] = hp"
   ]
  },
  {
   "cell_type": "code",
   "execution_count": 15,
   "id": "ad70d276-8e58-4056-9346-678e7ada781b",
   "metadata": {},
   "outputs": [],
   "source": [
    "with open('home_dict.pkl', 'wb') as f :\n",
    "    pickle.dump(home_dict, f)"
   ]
  },
  {
   "cell_type": "code",
   "execution_count": 16,
   "id": "64e177e7-388f-497b-a015-c88853c5aaad",
   "metadata": {},
   "outputs": [],
   "source": [
    "data['HomePlanet'].fillna(data['Group'].map(home_dict), inplace=True)"
   ]
  },
  {
   "cell_type": "code",
   "execution_count": 17,
   "id": "c9afe6f2-eb1b-407b-9dce-65097e13b149",
   "metadata": {},
   "outputs": [
    {
     "data": {
      "text/plain": [
       "111"
      ]
     },
     "execution_count": 17,
     "metadata": {},
     "output_type": "execute_result"
    }
   ],
   "source": [
    "data['HomePlanet'].isnull().sum()"
   ]
  },
  {
   "cell_type": "code",
   "execution_count": 18,
   "id": "820402cb-adc9-4afc-8e18-483ceacd533b",
   "metadata": {
    "tags": []
   },
   "outputs": [
    {
     "data": {
      "text/html": [
       "<div>\n",
       "<style scoped>\n",
       "    .dataframe tbody tr th:only-of-type {\n",
       "        vertical-align: middle;\n",
       "    }\n",
       "\n",
       "    .dataframe tbody tr th {\n",
       "        vertical-align: top;\n",
       "    }\n",
       "\n",
       "    .dataframe thead th {\n",
       "        text-align: right;\n",
       "    }\n",
       "</style>\n",
       "<table border=\"1\" class=\"dataframe\">\n",
       "  <thead>\n",
       "    <tr style=\"text-align: right;\">\n",
       "      <th></th>\n",
       "      <th>PassengerId</th>\n",
       "      <th>HomePlanet</th>\n",
       "      <th>CryoSleep</th>\n",
       "      <th>Cabin</th>\n",
       "      <th>Destination</th>\n",
       "      <th>Age</th>\n",
       "      <th>VIP</th>\n",
       "      <th>RoomService</th>\n",
       "      <th>FoodCourt</th>\n",
       "      <th>ShoppingMall</th>\n",
       "      <th>Spa</th>\n",
       "      <th>VRDeck</th>\n",
       "      <th>Name</th>\n",
       "      <th>Transported</th>\n",
       "      <th>Group</th>\n",
       "    </tr>\n",
       "  </thead>\n",
       "  <tbody>\n",
       "    <tr>\n",
       "      <th>186</th>\n",
       "      <td>0210_01</td>\n",
       "      <td>NaN</td>\n",
       "      <td>True</td>\n",
       "      <td>D/6/P</td>\n",
       "      <td>55 Cancri e</td>\n",
       "      <td>24.0</td>\n",
       "      <td>False</td>\n",
       "      <td>0.0</td>\n",
       "      <td>0.0</td>\n",
       "      <td>NaN</td>\n",
       "      <td>0.0</td>\n",
       "      <td>0.0</td>\n",
       "      <td>Arraid Inicont</td>\n",
       "      <td>True</td>\n",
       "      <td>0210</td>\n",
       "    </tr>\n",
       "    <tr>\n",
       "      <th>225</th>\n",
       "      <td>0242_01</td>\n",
       "      <td>NaN</td>\n",
       "      <td>False</td>\n",
       "      <td>F/46/S</td>\n",
       "      <td>TRAPPIST-1e</td>\n",
       "      <td>18.0</td>\n",
       "      <td>False</td>\n",
       "      <td>313.0</td>\n",
       "      <td>1.0</td>\n",
       "      <td>691.0</td>\n",
       "      <td>283.0</td>\n",
       "      <td>0.0</td>\n",
       "      <td>Almone Sté</td>\n",
       "      <td>False</td>\n",
       "      <td>0242</td>\n",
       "    </tr>\n",
       "    <tr>\n",
       "      <th>234</th>\n",
       "      <td>0251_01</td>\n",
       "      <td>NaN</td>\n",
       "      <td>True</td>\n",
       "      <td>C/11/S</td>\n",
       "      <td>55 Cancri e</td>\n",
       "      <td>54.0</td>\n",
       "      <td>False</td>\n",
       "      <td>0.0</td>\n",
       "      <td>0.0</td>\n",
       "      <td>0.0</td>\n",
       "      <td>0.0</td>\n",
       "      <td>0.0</td>\n",
       "      <td>Diphah Amsive</td>\n",
       "      <td>True</td>\n",
       "      <td>0251</td>\n",
       "    </tr>\n",
       "    <tr>\n",
       "      <th>274</th>\n",
       "      <td>0303_01</td>\n",
       "      <td>NaN</td>\n",
       "      <td>True</td>\n",
       "      <td>G/41/S</td>\n",
       "      <td>TRAPPIST-1e</td>\n",
       "      <td>23.0</td>\n",
       "      <td>False</td>\n",
       "      <td>0.0</td>\n",
       "      <td>0.0</td>\n",
       "      <td>0.0</td>\n",
       "      <td>0.0</td>\n",
       "      <td>0.0</td>\n",
       "      <td>Oraryn Kirklander</td>\n",
       "      <td>True</td>\n",
       "      <td>0303</td>\n",
       "    </tr>\n",
       "    <tr>\n",
       "      <th>286</th>\n",
       "      <td>0315_01</td>\n",
       "      <td>NaN</td>\n",
       "      <td>True</td>\n",
       "      <td>G/42/S</td>\n",
       "      <td>PSO J318.5-22</td>\n",
       "      <td>35.0</td>\n",
       "      <td>False</td>\n",
       "      <td>0.0</td>\n",
       "      <td>0.0</td>\n",
       "      <td>0.0</td>\n",
       "      <td>0.0</td>\n",
       "      <td>0.0</td>\n",
       "      <td>Adriet Valezaley</td>\n",
       "      <td>True</td>\n",
       "      <td>0315</td>\n",
       "    </tr>\n",
       "    <tr>\n",
       "      <th>...</th>\n",
       "      <td>...</td>\n",
       "      <td>...</td>\n",
       "      <td>...</td>\n",
       "      <td>...</td>\n",
       "      <td>...</td>\n",
       "      <td>...</td>\n",
       "      <td>...</td>\n",
       "      <td>...</td>\n",
       "      <td>...</td>\n",
       "      <td>...</td>\n",
       "      <td>...</td>\n",
       "      <td>...</td>\n",
       "      <td>...</td>\n",
       "      <td>...</td>\n",
       "      <td>...</td>\n",
       "    </tr>\n",
       "    <tr>\n",
       "      <th>8468</th>\n",
       "      <td>9043_01</td>\n",
       "      <td>NaN</td>\n",
       "      <td>True</td>\n",
       "      <td>F/1848/P</td>\n",
       "      <td>TRAPPIST-1e</td>\n",
       "      <td>25.0</td>\n",
       "      <td>False</td>\n",
       "      <td>0.0</td>\n",
       "      <td>0.0</td>\n",
       "      <td>0.0</td>\n",
       "      <td>0.0</td>\n",
       "      <td>0.0</td>\n",
       "      <td>Cobix Erle</td>\n",
       "      <td>True</td>\n",
       "      <td>9043</td>\n",
       "    </tr>\n",
       "    <tr>\n",
       "      <th>8515</th>\n",
       "      <td>9084_01</td>\n",
       "      <td>NaN</td>\n",
       "      <td>False</td>\n",
       "      <td>E/582/P</td>\n",
       "      <td>TRAPPIST-1e</td>\n",
       "      <td>25.0</td>\n",
       "      <td>False</td>\n",
       "      <td>1258.0</td>\n",
       "      <td>0.0</td>\n",
       "      <td>22.0</td>\n",
       "      <td>19.0</td>\n",
       "      <td>0.0</td>\n",
       "      <td>Jurs Mone</td>\n",
       "      <td>False</td>\n",
       "      <td>9084</td>\n",
       "    </tr>\n",
       "    <tr>\n",
       "      <th>8666</th>\n",
       "      <td>9248_01</td>\n",
       "      <td>NaN</td>\n",
       "      <td>False</td>\n",
       "      <td>F/1792/S</td>\n",
       "      <td>55 Cancri e</td>\n",
       "      <td>38.0</td>\n",
       "      <td>NaN</td>\n",
       "      <td>28.0</td>\n",
       "      <td>1208.0</td>\n",
       "      <td>973.0</td>\n",
       "      <td>207.0</td>\n",
       "      <td>0.0</td>\n",
       "      <td>Gian Perle</td>\n",
       "      <td>True</td>\n",
       "      <td>9248</td>\n",
       "    </tr>\n",
       "    <tr>\n",
       "      <th>8674</th>\n",
       "      <td>9257_01</td>\n",
       "      <td>NaN</td>\n",
       "      <td>False</td>\n",
       "      <td>F/1892/P</td>\n",
       "      <td>TRAPPIST-1e</td>\n",
       "      <td>13.0</td>\n",
       "      <td>False</td>\n",
       "      <td>39.0</td>\n",
       "      <td>0.0</td>\n",
       "      <td>1085.0</td>\n",
       "      <td>24.0</td>\n",
       "      <td>0.0</td>\n",
       "      <td>Ties Apple</td>\n",
       "      <td>False</td>\n",
       "      <td>9257</td>\n",
       "    </tr>\n",
       "    <tr>\n",
       "      <th>8684</th>\n",
       "      <td>9274_01</td>\n",
       "      <td>NaN</td>\n",
       "      <td>True</td>\n",
       "      <td>G/1508/P</td>\n",
       "      <td>TRAPPIST-1e</td>\n",
       "      <td>23.0</td>\n",
       "      <td>False</td>\n",
       "      <td>0.0</td>\n",
       "      <td>0.0</td>\n",
       "      <td>0.0</td>\n",
       "      <td>0.0</td>\n",
       "      <td>0.0</td>\n",
       "      <td>Chelsa Bullisey</td>\n",
       "      <td>True</td>\n",
       "      <td>9274</td>\n",
       "    </tr>\n",
       "  </tbody>\n",
       "</table>\n",
       "<p>111 rows × 15 columns</p>\n",
       "</div>"
      ],
      "text/plain": [
       "     PassengerId HomePlanet CryoSleep     Cabin    Destination   Age    VIP  \\\n",
       "186      0210_01        NaN      True     D/6/P    55 Cancri e  24.0  False   \n",
       "225      0242_01        NaN     False    F/46/S    TRAPPIST-1e  18.0  False   \n",
       "234      0251_01        NaN      True    C/11/S    55 Cancri e  54.0  False   \n",
       "274      0303_01        NaN      True    G/41/S    TRAPPIST-1e  23.0  False   \n",
       "286      0315_01        NaN      True    G/42/S  PSO J318.5-22  35.0  False   \n",
       "...          ...        ...       ...       ...            ...   ...    ...   \n",
       "8468     9043_01        NaN      True  F/1848/P    TRAPPIST-1e  25.0  False   \n",
       "8515     9084_01        NaN     False   E/582/P    TRAPPIST-1e  25.0  False   \n",
       "8666     9248_01        NaN     False  F/1792/S    55 Cancri e  38.0    NaN   \n",
       "8674     9257_01        NaN     False  F/1892/P    TRAPPIST-1e  13.0  False   \n",
       "8684     9274_01        NaN      True  G/1508/P    TRAPPIST-1e  23.0  False   \n",
       "\n",
       "      RoomService  FoodCourt  ShoppingMall    Spa  VRDeck               Name  \\\n",
       "186           0.0        0.0           NaN    0.0     0.0     Arraid Inicont   \n",
       "225         313.0        1.0         691.0  283.0     0.0         Almone Sté   \n",
       "234           0.0        0.0           0.0    0.0     0.0      Diphah Amsive   \n",
       "274           0.0        0.0           0.0    0.0     0.0  Oraryn Kirklander   \n",
       "286           0.0        0.0           0.0    0.0     0.0   Adriet Valezaley   \n",
       "...           ...        ...           ...    ...     ...                ...   \n",
       "8468          0.0        0.0           0.0    0.0     0.0         Cobix Erle   \n",
       "8515       1258.0        0.0          22.0   19.0     0.0          Jurs Mone   \n",
       "8666         28.0     1208.0         973.0  207.0     0.0         Gian Perle   \n",
       "8674         39.0        0.0        1085.0   24.0     0.0         Ties Apple   \n",
       "8684          0.0        0.0           0.0    0.0     0.0    Chelsa Bullisey   \n",
       "\n",
       "      Transported Group  \n",
       "186          True  0210  \n",
       "225         False  0242  \n",
       "234          True  0251  \n",
       "274          True  0303  \n",
       "286          True  0315  \n",
       "...           ...   ...  \n",
       "8468         True  9043  \n",
       "8515        False  9084  \n",
       "8666         True  9248  \n",
       "8674        False  9257  \n",
       "8684         True  9274  \n",
       "\n",
       "[111 rows x 15 columns]"
      ]
     },
     "execution_count": 18,
     "metadata": {},
     "output_type": "execute_result"
    }
   ],
   "source": [
    "data[data['HomePlanet'].isnull()]"
   ]
  },
  {
   "cell_type": "code",
   "execution_count": 19,
   "id": "45295693-ed55-4120-a4f4-2b33aadd85d7",
   "metadata": {},
   "outputs": [],
   "source": [
    "data['Name2'] = data['Name'].str.split(' ').str[-1]"
   ]
  },
  {
   "cell_type": "code",
   "execution_count": 20,
   "id": "108450c5-68a2-495d-a7df-8dbb1cbd9025",
   "metadata": {},
   "outputs": [],
   "source": [
    "name_group = data.groupby(['Name2','HomePlanet']).size().reset_index()"
   ]
  },
  {
   "cell_type": "code",
   "execution_count": 21,
   "id": "e6c705e9-dd12-4636-8f98-c65628b54e22",
   "metadata": {},
   "outputs": [
    {
     "data": {
      "text/html": [
       "<div>\n",
       "<style scoped>\n",
       "    .dataframe tbody tr th:only-of-type {\n",
       "        vertical-align: middle;\n",
       "    }\n",
       "\n",
       "    .dataframe tbody tr th {\n",
       "        vertical-align: top;\n",
       "    }\n",
       "\n",
       "    .dataframe thead th {\n",
       "        text-align: right;\n",
       "    }\n",
       "</style>\n",
       "<table border=\"1\" class=\"dataframe\">\n",
       "  <thead>\n",
       "    <tr style=\"text-align: right;\">\n",
       "      <th></th>\n",
       "      <th>Name2</th>\n",
       "      <th>HomePlanet</th>\n",
       "      <th>0</th>\n",
       "    </tr>\n",
       "  </thead>\n",
       "  <tbody>\n",
       "  </tbody>\n",
       "</table>\n",
       "</div>"
      ],
      "text/plain": [
       "Empty DataFrame\n",
       "Columns: [Name2, HomePlanet, 0]\n",
       "Index: []"
      ]
     },
     "execution_count": 21,
     "metadata": {},
     "output_type": "execute_result"
    }
   ],
   "source": [
    "name_group[name_group['Name2'].duplicated()]"
   ]
  },
  {
   "cell_type": "code",
   "execution_count": 22,
   "id": "934fbb50-c68c-46ad-a37b-2c2ee3d38215",
   "metadata": {},
   "outputs": [],
   "source": [
    "name_dict = {}\n",
    "for n, hp in zip(name_group['Name2'], name_group['HomePlanet']) :\n",
    "    name_dict[n] = hp"
   ]
  },
  {
   "cell_type": "code",
   "execution_count": 23,
   "id": "2108ca7a-a880-4f1a-857d-c3d697b9fa42",
   "metadata": {},
   "outputs": [],
   "source": [
    "with open('name_dict.pkl', 'wb') as f :\n",
    "    pickle.dump(name_dict, f)"
   ]
  },
  {
   "cell_type": "code",
   "execution_count": 24,
   "id": "1aedc300-1263-4c01-83d9-bf7081a72fb1",
   "metadata": {},
   "outputs": [],
   "source": [
    "data['HomePlanet'].fillna(data['Name2'].map(name_dict), inplace=True)"
   ]
  },
  {
   "cell_type": "code",
   "execution_count": 25,
   "id": "2c4cdb6d-6568-4627-b101-b1f1858de27f",
   "metadata": {},
   "outputs": [
    {
     "data": {
      "text/plain": [
       "12"
      ]
     },
     "execution_count": 25,
     "metadata": {},
     "output_type": "execute_result"
    }
   ],
   "source": [
    "data['HomePlanet'].isnull().sum()"
   ]
  },
  {
   "cell_type": "code",
   "execution_count": 26,
   "id": "30ff8439-d97d-40e7-9fe9-d1db4c01ccba",
   "metadata": {},
   "outputs": [
    {
     "data": {
      "text/html": [
       "<div>\n",
       "<style scoped>\n",
       "    .dataframe tbody tr th:only-of-type {\n",
       "        vertical-align: middle;\n",
       "    }\n",
       "\n",
       "    .dataframe tbody tr th {\n",
       "        vertical-align: top;\n",
       "    }\n",
       "\n",
       "    .dataframe thead th {\n",
       "        text-align: right;\n",
       "    }\n",
       "</style>\n",
       "<table border=\"1\" class=\"dataframe\">\n",
       "  <thead>\n",
       "    <tr style=\"text-align: right;\">\n",
       "      <th></th>\n",
       "      <th>PassengerId</th>\n",
       "      <th>HomePlanet</th>\n",
       "      <th>CryoSleep</th>\n",
       "      <th>Cabin</th>\n",
       "      <th>Destination</th>\n",
       "      <th>Age</th>\n",
       "      <th>VIP</th>\n",
       "      <th>RoomService</th>\n",
       "      <th>FoodCourt</th>\n",
       "      <th>ShoppingMall</th>\n",
       "      <th>Spa</th>\n",
       "      <th>VRDeck</th>\n",
       "      <th>Name</th>\n",
       "      <th>Transported</th>\n",
       "      <th>Group</th>\n",
       "      <th>Name2</th>\n",
       "    </tr>\n",
       "  </thead>\n",
       "  <tbody>\n",
       "    <tr>\n",
       "      <th>234</th>\n",
       "      <td>0251_01</td>\n",
       "      <td>NaN</td>\n",
       "      <td>True</td>\n",
       "      <td>C/11/S</td>\n",
       "      <td>55 Cancri e</td>\n",
       "      <td>54.0</td>\n",
       "      <td>False</td>\n",
       "      <td>0.0</td>\n",
       "      <td>0.0</td>\n",
       "      <td>0.0</td>\n",
       "      <td>0.0</td>\n",
       "      <td>0.0</td>\n",
       "      <td>Diphah Amsive</td>\n",
       "      <td>True</td>\n",
       "      <td>0251</td>\n",
       "      <td>Amsive</td>\n",
       "    </tr>\n",
       "  </tbody>\n",
       "</table>\n",
       "</div>"
      ],
      "text/plain": [
       "    PassengerId HomePlanet CryoSleep   Cabin  Destination   Age    VIP  \\\n",
       "234     0251_01        NaN      True  C/11/S  55 Cancri e  54.0  False   \n",
       "\n",
       "     RoomService  FoodCourt  ShoppingMall  Spa  VRDeck           Name  \\\n",
       "234          0.0        0.0           0.0  0.0     0.0  Diphah Amsive   \n",
       "\n",
       "     Transported Group   Name2  \n",
       "234         True  0251  Amsive  "
      ]
     },
     "execution_count": 26,
     "metadata": {},
     "output_type": "execute_result"
    }
   ],
   "source": [
    "data[data['Name2'] == 'Amsive']"
   ]
  },
  {
   "cell_type": "code",
   "execution_count": 27,
   "id": "6a28b890-d3b7-4c66-9c8f-cd08fc03037f",
   "metadata": {},
   "outputs": [
    {
     "data": {
      "text/html": [
       "<div>\n",
       "<style scoped>\n",
       "    .dataframe tbody tr th:only-of-type {\n",
       "        vertical-align: middle;\n",
       "    }\n",
       "\n",
       "    .dataframe tbody tr th {\n",
       "        vertical-align: top;\n",
       "    }\n",
       "\n",
       "    .dataframe thead th {\n",
       "        text-align: right;\n",
       "    }\n",
       "</style>\n",
       "<table border=\"1\" class=\"dataframe\">\n",
       "  <thead>\n",
       "    <tr style=\"text-align: right;\">\n",
       "      <th></th>\n",
       "      <th>PassengerId</th>\n",
       "      <th>HomePlanet</th>\n",
       "      <th>CryoSleep</th>\n",
       "      <th>Cabin</th>\n",
       "      <th>Destination</th>\n",
       "      <th>Age</th>\n",
       "      <th>VIP</th>\n",
       "      <th>RoomService</th>\n",
       "      <th>FoodCourt</th>\n",
       "      <th>ShoppingMall</th>\n",
       "      <th>Spa</th>\n",
       "      <th>VRDeck</th>\n",
       "      <th>Name</th>\n",
       "      <th>Transported</th>\n",
       "      <th>Group</th>\n",
       "      <th>Name2</th>\n",
       "    </tr>\n",
       "  </thead>\n",
       "  <tbody>\n",
       "    <tr>\n",
       "      <th>225</th>\n",
       "      <td>0242_01</td>\n",
       "      <td>NaN</td>\n",
       "      <td>False</td>\n",
       "      <td>F/46/S</td>\n",
       "      <td>TRAPPIST-1e</td>\n",
       "      <td>18.0</td>\n",
       "      <td>False</td>\n",
       "      <td>313.0</td>\n",
       "      <td>1.0</td>\n",
       "      <td>691.0</td>\n",
       "      <td>283.0</td>\n",
       "      <td>0.0</td>\n",
       "      <td>Almone Sté</td>\n",
       "      <td>False</td>\n",
       "      <td>0242</td>\n",
       "      <td>Sté</td>\n",
       "    </tr>\n",
       "    <tr>\n",
       "      <th>234</th>\n",
       "      <td>0251_01</td>\n",
       "      <td>NaN</td>\n",
       "      <td>True</td>\n",
       "      <td>C/11/S</td>\n",
       "      <td>55 Cancri e</td>\n",
       "      <td>54.0</td>\n",
       "      <td>False</td>\n",
       "      <td>0.0</td>\n",
       "      <td>0.0</td>\n",
       "      <td>0.0</td>\n",
       "      <td>0.0</td>\n",
       "      <td>0.0</td>\n",
       "      <td>Diphah Amsive</td>\n",
       "      <td>True</td>\n",
       "      <td>0251</td>\n",
       "      <td>Amsive</td>\n",
       "    </tr>\n",
       "    <tr>\n",
       "      <th>807</th>\n",
       "      <td>0853_01</td>\n",
       "      <td>NaN</td>\n",
       "      <td>True</td>\n",
       "      <td>A/9/S</td>\n",
       "      <td>55 Cancri e</td>\n",
       "      <td>38.0</td>\n",
       "      <td>False</td>\n",
       "      <td>0.0</td>\n",
       "      <td>0.0</td>\n",
       "      <td>0.0</td>\n",
       "      <td>0.0</td>\n",
       "      <td>0.0</td>\n",
       "      <td>Hamelik Ageurante</td>\n",
       "      <td>True</td>\n",
       "      <td>0853</td>\n",
       "      <td>Ageurante</td>\n",
       "    </tr>\n",
       "    <tr>\n",
       "      <th>1855</th>\n",
       "      <td>1978_01</td>\n",
       "      <td>NaN</td>\n",
       "      <td>True</td>\n",
       "      <td>G/311/S</td>\n",
       "      <td>TRAPPIST-1e</td>\n",
       "      <td>19.0</td>\n",
       "      <td>False</td>\n",
       "      <td>0.0</td>\n",
       "      <td>0.0</td>\n",
       "      <td>0.0</td>\n",
       "      <td>0.0</td>\n",
       "      <td>0.0</td>\n",
       "      <td>NaN</td>\n",
       "      <td>True</td>\n",
       "      <td>1978</td>\n",
       "      <td>NaN</td>\n",
       "    </tr>\n",
       "    <tr>\n",
       "      <th>2274</th>\n",
       "      <td>2443_01</td>\n",
       "      <td>NaN</td>\n",
       "      <td>False</td>\n",
       "      <td>D/72/P</td>\n",
       "      <td>TRAPPIST-1e</td>\n",
       "      <td>31.0</td>\n",
       "      <td>False</td>\n",
       "      <td>1458.0</td>\n",
       "      <td>421.0</td>\n",
       "      <td>76.0</td>\n",
       "      <td>0.0</td>\n",
       "      <td>0.0</td>\n",
       "      <td>NaN</td>\n",
       "      <td>False</td>\n",
       "      <td>2443</td>\n",
       "      <td>NaN</td>\n",
       "    </tr>\n",
       "    <tr>\n",
       "      <th>2631</th>\n",
       "      <td>2817_01</td>\n",
       "      <td>NaN</td>\n",
       "      <td>False</td>\n",
       "      <td>F/584/P</td>\n",
       "      <td>TRAPPIST-1e</td>\n",
       "      <td>25.0</td>\n",
       "      <td>False</td>\n",
       "      <td>237.0</td>\n",
       "      <td>0.0</td>\n",
       "      <td>910.0</td>\n",
       "      <td>0.0</td>\n",
       "      <td>12.0</td>\n",
       "      <td>Sealfs Sutty</td>\n",
       "      <td>False</td>\n",
       "      <td>2817</td>\n",
       "      <td>Sutty</td>\n",
       "    </tr>\n",
       "    <tr>\n",
       "      <th>3091</th>\n",
       "      <td>3331_01</td>\n",
       "      <td>NaN</td>\n",
       "      <td>False</td>\n",
       "      <td>F/631/S</td>\n",
       "      <td>TRAPPIST-1e</td>\n",
       "      <td>40.0</td>\n",
       "      <td>False</td>\n",
       "      <td>666.0</td>\n",
       "      <td>4.0</td>\n",
       "      <td>83.0</td>\n",
       "      <td>0.0</td>\n",
       "      <td>50.0</td>\n",
       "      <td>NaN</td>\n",
       "      <td>True</td>\n",
       "      <td>3331</td>\n",
       "      <td>NaN</td>\n",
       "    </tr>\n",
       "    <tr>\n",
       "      <th>4548</th>\n",
       "      <td>4840_01</td>\n",
       "      <td>NaN</td>\n",
       "      <td>True</td>\n",
       "      <td>F/915/S</td>\n",
       "      <td>TRAPPIST-1e</td>\n",
       "      <td>36.0</td>\n",
       "      <td>False</td>\n",
       "      <td>0.0</td>\n",
       "      <td>0.0</td>\n",
       "      <td>NaN</td>\n",
       "      <td>0.0</td>\n",
       "      <td>0.0</td>\n",
       "      <td>NaN</td>\n",
       "      <td>True</td>\n",
       "      <td>4840</td>\n",
       "      <td>NaN</td>\n",
       "    </tr>\n",
       "    <tr>\n",
       "      <th>5252</th>\n",
       "      <td>5603_01</td>\n",
       "      <td>NaN</td>\n",
       "      <td>False</td>\n",
       "      <td>E/365/S</td>\n",
       "      <td>TRAPPIST-1e</td>\n",
       "      <td>34.0</td>\n",
       "      <td>False</td>\n",
       "      <td>170.0</td>\n",
       "      <td>1256.0</td>\n",
       "      <td>0.0</td>\n",
       "      <td>3926.0</td>\n",
       "      <td>7121.0</td>\n",
       "      <td>Kocha Cluitty</td>\n",
       "      <td>False</td>\n",
       "      <td>5603</td>\n",
       "      <td>Cluitty</td>\n",
       "    </tr>\n",
       "    <tr>\n",
       "      <th>5634</th>\n",
       "      <td>5989_01</td>\n",
       "      <td>NaN</td>\n",
       "      <td>False</td>\n",
       "      <td>F/1141/S</td>\n",
       "      <td>TRAPPIST-1e</td>\n",
       "      <td>20.0</td>\n",
       "      <td>False</td>\n",
       "      <td>0.0</td>\n",
       "      <td>0.0</td>\n",
       "      <td>NaN</td>\n",
       "      <td>703.0</td>\n",
       "      <td>0.0</td>\n",
       "      <td>Darrie Holcompton</td>\n",
       "      <td>False</td>\n",
       "      <td>5989</td>\n",
       "      <td>Holcompton</td>\n",
       "    </tr>\n",
       "    <tr>\n",
       "      <th>5762</th>\n",
       "      <td>6108_01</td>\n",
       "      <td>NaN</td>\n",
       "      <td>False</td>\n",
       "      <td>F/1166/S</td>\n",
       "      <td>TRAPPIST-1e</td>\n",
       "      <td>13.0</td>\n",
       "      <td>False</td>\n",
       "      <td>206.0</td>\n",
       "      <td>28.0</td>\n",
       "      <td>0.0</td>\n",
       "      <td>1.0</td>\n",
       "      <td>629.0</td>\n",
       "      <td>NaN</td>\n",
       "      <td>False</td>\n",
       "      <td>6108</td>\n",
       "      <td>NaN</td>\n",
       "    </tr>\n",
       "    <tr>\n",
       "      <th>6644</th>\n",
       "      <td>7006_01</td>\n",
       "      <td>NaN</td>\n",
       "      <td>True</td>\n",
       "      <td>G/1142/S</td>\n",
       "      <td>PSO J318.5-22</td>\n",
       "      <td>16.0</td>\n",
       "      <td>False</td>\n",
       "      <td>0.0</td>\n",
       "      <td>0.0</td>\n",
       "      <td>0.0</td>\n",
       "      <td>0.0</td>\n",
       "      <td>0.0</td>\n",
       "      <td>Tammyl Fuenton</td>\n",
       "      <td>True</td>\n",
       "      <td>7006</td>\n",
       "      <td>Fuenton</td>\n",
       "    </tr>\n",
       "  </tbody>\n",
       "</table>\n",
       "</div>"
      ],
      "text/plain": [
       "     PassengerId HomePlanet CryoSleep     Cabin    Destination   Age    VIP  \\\n",
       "225      0242_01        NaN     False    F/46/S    TRAPPIST-1e  18.0  False   \n",
       "234      0251_01        NaN      True    C/11/S    55 Cancri e  54.0  False   \n",
       "807      0853_01        NaN      True     A/9/S    55 Cancri e  38.0  False   \n",
       "1855     1978_01        NaN      True   G/311/S    TRAPPIST-1e  19.0  False   \n",
       "2274     2443_01        NaN     False    D/72/P    TRAPPIST-1e  31.0  False   \n",
       "2631     2817_01        NaN     False   F/584/P    TRAPPIST-1e  25.0  False   \n",
       "3091     3331_01        NaN     False   F/631/S    TRAPPIST-1e  40.0  False   \n",
       "4548     4840_01        NaN      True   F/915/S    TRAPPIST-1e  36.0  False   \n",
       "5252     5603_01        NaN     False   E/365/S    TRAPPIST-1e  34.0  False   \n",
       "5634     5989_01        NaN     False  F/1141/S    TRAPPIST-1e  20.0  False   \n",
       "5762     6108_01        NaN     False  F/1166/S    TRAPPIST-1e  13.0  False   \n",
       "6644     7006_01        NaN      True  G/1142/S  PSO J318.5-22  16.0  False   \n",
       "\n",
       "      RoomService  FoodCourt  ShoppingMall     Spa  VRDeck               Name  \\\n",
       "225         313.0        1.0         691.0   283.0     0.0         Almone Sté   \n",
       "234           0.0        0.0           0.0     0.0     0.0      Diphah Amsive   \n",
       "807           0.0        0.0           0.0     0.0     0.0  Hamelik Ageurante   \n",
       "1855          0.0        0.0           0.0     0.0     0.0                NaN   \n",
       "2274       1458.0      421.0          76.0     0.0     0.0                NaN   \n",
       "2631        237.0        0.0         910.0     0.0    12.0       Sealfs Sutty   \n",
       "3091        666.0        4.0          83.0     0.0    50.0                NaN   \n",
       "4548          0.0        0.0           NaN     0.0     0.0                NaN   \n",
       "5252        170.0     1256.0           0.0  3926.0  7121.0      Kocha Cluitty   \n",
       "5634          0.0        0.0           NaN   703.0     0.0  Darrie Holcompton   \n",
       "5762        206.0       28.0           0.0     1.0   629.0                NaN   \n",
       "6644          0.0        0.0           0.0     0.0     0.0     Tammyl Fuenton   \n",
       "\n",
       "      Transported Group       Name2  \n",
       "225         False  0242         Sté  \n",
       "234          True  0251      Amsive  \n",
       "807          True  0853   Ageurante  \n",
       "1855         True  1978         NaN  \n",
       "2274        False  2443         NaN  \n",
       "2631        False  2817       Sutty  \n",
       "3091         True  3331         NaN  \n",
       "4548         True  4840         NaN  \n",
       "5252        False  5603     Cluitty  \n",
       "5634        False  5989  Holcompton  \n",
       "5762        False  6108         NaN  \n",
       "6644         True  7006     Fuenton  "
      ]
     },
     "execution_count": 27,
     "metadata": {},
     "output_type": "execute_result"
    }
   ],
   "source": [
    "data[data['HomePlanet'].isnull()]"
   ]
  },
  {
   "cell_type": "code",
   "execution_count": 28,
   "id": "34e95897-9602-45bb-ab20-8d84e7b479fc",
   "metadata": {},
   "outputs": [
    {
     "data": {
      "text/plain": [
       "Destination    HomePlanet\n",
       "55 Cancri e    Earth          700\n",
       "               Europa         902\n",
       "               Mars           196\n",
       "PSO J318.5-22  Earth          725\n",
       "               Europa          19\n",
       "               Mars            51\n",
       "TRAPPIST-1e    Earth         3177\n",
       "               Europa        1214\n",
       "               Mars          1515\n",
       "dtype: int64"
      ]
     },
     "execution_count": 28,
     "metadata": {},
     "output_type": "execute_result"
    }
   ],
   "source": [
    "data.groupby(['Destination','HomePlanet']).size()"
   ]
  },
  {
   "cell_type": "code",
   "execution_count": 29,
   "id": "af73e4af-929e-4733-bdee-8c3771adb4f1",
   "metadata": {},
   "outputs": [],
   "source": [
    "data['HomePlanet'] = data['HomePlanet'].fillna(data['Destination'].map(\n",
    "    {'55 Cancri e':'Europa', \n",
    "     'PSO J318.5-22':'Earth', \n",
    "     'TRAPPIST-1e':'Earth'}))"
   ]
  },
  {
   "cell_type": "code",
   "execution_count": 30,
   "id": "3872dc00-e3f8-48b2-99ee-6fc062cac3e7",
   "metadata": {},
   "outputs": [
    {
     "data": {
      "text/plain": [
       "0"
      ]
     },
     "execution_count": 30,
     "metadata": {},
     "output_type": "execute_result"
    }
   ],
   "source": [
    "data['HomePlanet'].isnull().sum()"
   ]
  },
  {
   "cell_type": "markdown",
   "id": "78c79459-c9fb-4364-a938-52b3918c332a",
   "metadata": {},
   "source": [
    "---------"
   ]
  },
  {
   "cell_type": "markdown",
   "id": "ff7e08e6-abcf-4fc9-a01e-984b1acc26ef",
   "metadata": {
    "tags": []
   },
   "source": [
    "## VIP Null 처리"
   ]
  },
  {
   "cell_type": "code",
   "execution_count": 31,
   "id": "3036ccbe-b4ca-4f9e-9f63-539a9488f422",
   "metadata": {},
   "outputs": [
    {
     "data": {
      "text/plain": [
       "False    8291\n",
       "NaN       203\n",
       "True      199\n",
       "Name: VIP, dtype: int64"
      ]
     },
     "execution_count": 31,
     "metadata": {},
     "output_type": "execute_result"
    }
   ],
   "source": [
    "data['VIP'].value_counts(dropna=False)"
   ]
  },
  {
   "cell_type": "code",
   "execution_count": 32,
   "id": "27339393-b6d7-42c1-aaa1-f89f86796872",
   "metadata": {},
   "outputs": [],
   "source": [
    "data['VIP'].fillna(False, inplace=True)"
   ]
  },
  {
   "cell_type": "code",
   "execution_count": 33,
   "id": "bdae7fc2-b88d-456e-acf0-f4cb975346ec",
   "metadata": {},
   "outputs": [
    {
     "data": {
      "text/plain": [
       "0"
      ]
     },
     "execution_count": 33,
     "metadata": {},
     "output_type": "execute_result"
    }
   ],
   "source": [
    "data['VIP'].isnull().sum()"
   ]
  },
  {
   "cell_type": "code",
   "execution_count": 34,
   "id": "da416b6f-70f3-4659-a80d-4aeade223650",
   "metadata": {},
   "outputs": [
    {
     "data": {
      "text/plain": [
       "PassengerId       0\n",
       "HomePlanet        0\n",
       "CryoSleep       217\n",
       "Cabin           199\n",
       "Destination     182\n",
       "Age             179\n",
       "VIP               0\n",
       "RoomService     181\n",
       "FoodCourt       183\n",
       "ShoppingMall    208\n",
       "Spa             183\n",
       "VRDeck          188\n",
       "Name            200\n",
       "Transported       0\n",
       "Group             0\n",
       "Name2           200\n",
       "dtype: int64"
      ]
     },
     "execution_count": 34,
     "metadata": {},
     "output_type": "execute_result"
    }
   ],
   "source": [
    "data.isnull().sum()"
   ]
  },
  {
   "cell_type": "markdown",
   "id": "8bdccfc1-07a9-406f-aed4-d27fdbfd434e",
   "metadata": {},
   "source": [
    "---"
   ]
  },
  {
   "cell_type": "markdown",
   "id": "0f94c6af-3880-434c-aed5-ca10f9d118f7",
   "metadata": {},
   "source": [
    "## fee 처리"
   ]
  },
  {
   "cell_type": "code",
   "execution_count": 35,
   "id": "d4f03b81-e16f-4431-96a2-48520358ef9e",
   "metadata": {},
   "outputs": [],
   "source": [
    "fee_list = ['RoomService', 'FoodCourt', 'ShoppingMall', 'Spa', 'VRDeck']"
   ]
  },
  {
   "cell_type": "code",
   "execution_count": 36,
   "id": "2e3a3fd7-3548-4421-8e61-a8286aa6c858",
   "metadata": {},
   "outputs": [],
   "source": [
    "for col in fee_list :\n",
    "    data[col].fillna(data[col].median(), inplace=True)\n",
    "    "
   ]
  },
  {
   "cell_type": "code",
   "execution_count": 37,
   "id": "7c6e42e5-c5f5-4fc0-adaf-3ac4216f2b5a",
   "metadata": {},
   "outputs": [
    {
     "name": "stdout",
     "output_type": "stream",
     "text": [
      "0.0\n",
      "0.0\n",
      "0.0\n",
      "0.0\n",
      "0.0\n"
     ]
    }
   ],
   "source": [
    "for col in fee_list :\n",
    "    print(data[col].median())"
   ]
  },
  {
   "cell_type": "code",
   "execution_count": 38,
   "id": "0b96d495-f2e1-443b-8b12-931df449684a",
   "metadata": {},
   "outputs": [],
   "source": [
    "data['fee'] = data['RoomService'] + data['FoodCourt'] + data['ShoppingMall'] + data['Spa'] + data['VRDeck']"
   ]
  },
  {
   "cell_type": "code",
   "execution_count": 39,
   "id": "7ccab67b-2968-4348-bd71-d8347da60add",
   "metadata": {},
   "outputs": [
    {
     "data": {
      "text/plain": [
       "0"
      ]
     },
     "execution_count": 39,
     "metadata": {},
     "output_type": "execute_result"
    }
   ],
   "source": [
    "data['fee'].isnull().sum()"
   ]
  },
  {
   "cell_type": "code",
   "execution_count": 40,
   "id": "44a73737-cf50-4ff6-925a-f03ad29a5e42",
   "metadata": {},
   "outputs": [
    {
     "data": {
      "text/plain": [
       "PassengerId       0\n",
       "HomePlanet        0\n",
       "CryoSleep       217\n",
       "Cabin           199\n",
       "Destination     182\n",
       "Age             179\n",
       "VIP               0\n",
       "RoomService       0\n",
       "FoodCourt         0\n",
       "ShoppingMall      0\n",
       "Spa               0\n",
       "VRDeck            0\n",
       "Name            200\n",
       "Transported       0\n",
       "Group             0\n",
       "Name2           200\n",
       "fee               0\n",
       "dtype: int64"
      ]
     },
     "execution_count": 40,
     "metadata": {},
     "output_type": "execute_result"
    }
   ],
   "source": [
    "data.isnull().sum()"
   ]
  },
  {
   "cell_type": "markdown",
   "id": "6fb4db6d-d518-4c88-a133-568bd299a7d2",
   "metadata": {},
   "source": [
    "---"
   ]
  },
  {
   "cell_type": "code",
   "execution_count": 41,
   "id": "1032c17c-91f2-4044-9e53-33c626931d16",
   "metadata": {},
   "outputs": [],
   "source": [
    "data['deck'] = data['Cabin'].str.split('/').str[0]"
   ]
  },
  {
   "cell_type": "code",
   "execution_count": 42,
   "id": "e15cc6a6-c807-4550-acee-e9bd8be09376",
   "metadata": {},
   "outputs": [],
   "source": [
    "data['side'] = data['Cabin'].str.split('/').str[-1]"
   ]
  },
  {
   "cell_type": "code",
   "execution_count": 43,
   "id": "b11da2f8-d790-4cf7-976b-287d9e1ca12a",
   "metadata": {},
   "outputs": [
    {
     "data": {
      "text/plain": [
       "HomePlanet  deck\n",
       "Earth       D          1\n",
       "            E        404\n",
       "            F       1652\n",
       "            G       2559\n",
       "Europa      A        256\n",
       "            B        779\n",
       "            C        747\n",
       "            D        192\n",
       "            E        133\n",
       "            T          5\n",
       "Mars        D        285\n",
       "            E        339\n",
       "            F       1142\n",
       "dtype: int64"
      ]
     },
     "execution_count": 43,
     "metadata": {},
     "output_type": "execute_result"
    }
   ],
   "source": [
    "data.groupby(['HomePlanet','deck']).size()"
   ]
  },
  {
   "cell_type": "code",
   "execution_count": 44,
   "id": "05be5052-7ecc-4f16-ade0-a72938472a5a",
   "metadata": {},
   "outputs": [
    {
     "data": {
      "text/plain": [
       "HomePlanet  side\n",
       "Earth       P       2324\n",
       "            S       2292\n",
       "Europa      P        972\n",
       "            S       1140\n",
       "Mars        P        910\n",
       "            S        856\n",
       "dtype: int64"
      ]
     },
     "execution_count": 44,
     "metadata": {},
     "output_type": "execute_result"
    }
   ],
   "source": [
    "data.groupby(['HomePlanet','side']).size()"
   ]
  },
  {
   "cell_type": "markdown",
   "id": "d35b6a55-b9ab-4cdd-9b2a-0bed461987ae",
   "metadata": {},
   "source": [
    "Earth -> G / Europa -> B"
   ]
  },
  {
   "cell_type": "code",
   "execution_count": 45,
   "id": "73f853f2-6b66-47f8-afea-0dd540c23e52",
   "metadata": {},
   "outputs": [],
   "source": [
    "data['deck'].fillna(data['HomePlanet'].map({'Earth':'G', 'Europa':'B', 'Mars':'F'}), inplace=True)"
   ]
  },
  {
   "cell_type": "code",
   "execution_count": 46,
   "id": "a3c64164-130c-4367-8326-e5b3fbc2a216",
   "metadata": {},
   "outputs": [
    {
     "data": {
      "text/plain": [
       "PassengerId       0\n",
       "HomePlanet        0\n",
       "CryoSleep       217\n",
       "Cabin           199\n",
       "Destination     182\n",
       "Age             179\n",
       "VIP               0\n",
       "RoomService       0\n",
       "FoodCourt         0\n",
       "ShoppingMall      0\n",
       "Spa               0\n",
       "VRDeck            0\n",
       "Name            200\n",
       "Transported       0\n",
       "Group             0\n",
       "Name2           200\n",
       "fee               0\n",
       "deck              0\n",
       "side            199\n",
       "dtype: int64"
      ]
     },
     "execution_count": 46,
     "metadata": {},
     "output_type": "execute_result"
    }
   ],
   "source": [
    "data.isnull().sum()"
   ]
  },
  {
   "cell_type": "code",
   "execution_count": 47,
   "id": "5a856ec4-9754-4cc3-bcb1-c9b8063d7977",
   "metadata": {},
   "outputs": [],
   "source": [
    "side_group = data.groupby(['Group', 'side']).size().reset_index()"
   ]
  },
  {
   "cell_type": "code",
   "execution_count": 48,
   "id": "c92c9f5f-6e1f-4720-8a25-63867e6d7f0b",
   "metadata": {},
   "outputs": [
    {
     "data": {
      "text/html": [
       "<div>\n",
       "<style scoped>\n",
       "    .dataframe tbody tr th:only-of-type {\n",
       "        vertical-align: middle;\n",
       "    }\n",
       "\n",
       "    .dataframe tbody tr th {\n",
       "        vertical-align: top;\n",
       "    }\n",
       "\n",
       "    .dataframe thead th {\n",
       "        text-align: right;\n",
       "    }\n",
       "</style>\n",
       "<table border=\"1\" class=\"dataframe\">\n",
       "  <thead>\n",
       "    <tr style=\"text-align: right;\">\n",
       "      <th></th>\n",
       "      <th>Group</th>\n",
       "      <th>side</th>\n",
       "      <th>0</th>\n",
       "    </tr>\n",
       "  </thead>\n",
       "  <tbody>\n",
       "  </tbody>\n",
       "</table>\n",
       "</div>"
      ],
      "text/plain": [
       "Empty DataFrame\n",
       "Columns: [Group, side, 0]\n",
       "Index: []"
      ]
     },
     "execution_count": 48,
     "metadata": {},
     "output_type": "execute_result"
    }
   ],
   "source": [
    "side_group[side_group['Group'].duplicated()]"
   ]
  },
  {
   "cell_type": "code",
   "execution_count": 49,
   "id": "9dfa1e40-0b40-48e0-bea8-6adbc14bf250",
   "metadata": {},
   "outputs": [],
   "source": [
    "side_dict = {}\n",
    "for g, s in zip(side_group['Group'], side_group['side']) :\n",
    "    side_dict[g] = s"
   ]
  },
  {
   "cell_type": "code",
   "execution_count": 50,
   "id": "6974bab8-0202-4795-a770-87d3f63a887b",
   "metadata": {},
   "outputs": [],
   "source": [
    "with open('side_dict.pkl', 'wb') as f :\n",
    "    pickle.dump(side_dict, f)"
   ]
  },
  {
   "cell_type": "code",
   "execution_count": 51,
   "id": "fa5a46f6-a9a3-42bf-b759-a93ab30c4ec4",
   "metadata": {},
   "outputs": [],
   "source": [
    "data['side'].fillna(data['Group'].map(side_dict), inplace=True)"
   ]
  },
  {
   "cell_type": "code",
   "execution_count": 52,
   "id": "da63e8dc-08ff-4a5d-82ea-c15a044e8514",
   "metadata": {},
   "outputs": [
    {
     "data": {
      "text/plain": [
       "S    4343\n",
       "P    4251\n",
       "Name: side, dtype: int64"
      ]
     },
     "execution_count": 52,
     "metadata": {},
     "output_type": "execute_result"
    }
   ],
   "source": [
    "data['side'].value_counts()"
   ]
  },
  {
   "cell_type": "code",
   "execution_count": 53,
   "id": "0d46381f-35e1-4c7f-94b7-c90a8c4ce86d",
   "metadata": {},
   "outputs": [],
   "source": [
    "data['side'].fillna('S', inplace=True)"
   ]
  },
  {
   "cell_type": "code",
   "execution_count": 54,
   "id": "7e47b264-e5fd-4c9b-bc7e-67a6839b0ac9",
   "metadata": {},
   "outputs": [
    {
     "data": {
      "text/plain": [
       "PassengerId       0\n",
       "HomePlanet        0\n",
       "CryoSleep       217\n",
       "Cabin           199\n",
       "Destination     182\n",
       "Age             179\n",
       "VIP               0\n",
       "RoomService       0\n",
       "FoodCourt         0\n",
       "ShoppingMall      0\n",
       "Spa               0\n",
       "VRDeck            0\n",
       "Name            200\n",
       "Transported       0\n",
       "Group             0\n",
       "Name2           200\n",
       "fee               0\n",
       "deck              0\n",
       "side              0\n",
       "dtype: int64"
      ]
     },
     "execution_count": 54,
     "metadata": {},
     "output_type": "execute_result"
    }
   ],
   "source": [
    "data.isnull().sum()"
   ]
  },
  {
   "cell_type": "code",
   "execution_count": 55,
   "id": "e4540c77-6d85-495e-a66f-38703799a580",
   "metadata": {},
   "outputs": [],
   "source": [
    "dest_group = data.groupby(['Group','Destination']).size().reset_index()"
   ]
  },
  {
   "cell_type": "code",
   "execution_count": 56,
   "id": "ff14af0b-0ee4-4812-beb2-7dd1d05372cf",
   "metadata": {},
   "outputs": [
    {
     "data": {
      "text/html": [
       "<div>\n",
       "<style scoped>\n",
       "    .dataframe tbody tr th:only-of-type {\n",
       "        vertical-align: middle;\n",
       "    }\n",
       "\n",
       "    .dataframe tbody tr th {\n",
       "        vertical-align: top;\n",
       "    }\n",
       "\n",
       "    .dataframe thead th {\n",
       "        text-align: right;\n",
       "    }\n",
       "</style>\n",
       "<table border=\"1\" class=\"dataframe\">\n",
       "  <thead>\n",
       "    <tr style=\"text-align: right;\">\n",
       "      <th></th>\n",
       "      <th>Group</th>\n",
       "      <th>Destination</th>\n",
       "      <th>0</th>\n",
       "    </tr>\n",
       "  </thead>\n",
       "  <tbody>\n",
       "    <tr>\n",
       "      <th>8</th>\n",
       "      <td>0008</td>\n",
       "      <td>TRAPPIST-1e</td>\n",
       "      <td>1</td>\n",
       "    </tr>\n",
       "    <tr>\n",
       "      <th>17</th>\n",
       "      <td>0017</td>\n",
       "      <td>TRAPPIST-1e</td>\n",
       "      <td>1</td>\n",
       "    </tr>\n",
       "    <tr>\n",
       "      <th>19</th>\n",
       "      <td>0020</td>\n",
       "      <td>PSO J318.5-22</td>\n",
       "      <td>1</td>\n",
       "    </tr>\n",
       "    <tr>\n",
       "      <th>20</th>\n",
       "      <td>0020</td>\n",
       "      <td>TRAPPIST-1e</td>\n",
       "      <td>3</td>\n",
       "    </tr>\n",
       "    <tr>\n",
       "      <th>36</th>\n",
       "      <td>0044</td>\n",
       "      <td>PSO J318.5-22</td>\n",
       "      <td>1</td>\n",
       "    </tr>\n",
       "    <tr>\n",
       "      <th>...</th>\n",
       "      <td>...</td>\n",
       "      <td>...</td>\n",
       "      <td>...</td>\n",
       "    </tr>\n",
       "    <tr>\n",
       "      <th>6836</th>\n",
       "      <td>9219</td>\n",
       "      <td>TRAPPIST-1e</td>\n",
       "      <td>1</td>\n",
       "    </tr>\n",
       "    <tr>\n",
       "      <th>6838</th>\n",
       "      <td>9220</td>\n",
       "      <td>TRAPPIST-1e</td>\n",
       "      <td>2</td>\n",
       "    </tr>\n",
       "    <tr>\n",
       "      <th>6844</th>\n",
       "      <td>9227</td>\n",
       "      <td>TRAPPIST-1e</td>\n",
       "      <td>3</td>\n",
       "    </tr>\n",
       "    <tr>\n",
       "      <th>6847</th>\n",
       "      <td>9231</td>\n",
       "      <td>TRAPPIST-1e</td>\n",
       "      <td>2</td>\n",
       "    </tr>\n",
       "    <tr>\n",
       "      <th>6879</th>\n",
       "      <td>9280</td>\n",
       "      <td>TRAPPIST-1e</td>\n",
       "      <td>1</td>\n",
       "    </tr>\n",
       "  </tbody>\n",
       "</table>\n",
       "<p>766 rows × 3 columns</p>\n",
       "</div>"
      ],
      "text/plain": [
       "     Group    Destination  0\n",
       "8     0008    TRAPPIST-1e  1\n",
       "17    0017    TRAPPIST-1e  1\n",
       "19    0020  PSO J318.5-22  1\n",
       "20    0020    TRAPPIST-1e  3\n",
       "36    0044  PSO J318.5-22  1\n",
       "...    ...            ... ..\n",
       "6836  9219    TRAPPIST-1e  1\n",
       "6838  9220    TRAPPIST-1e  2\n",
       "6844  9227    TRAPPIST-1e  3\n",
       "6847  9231    TRAPPIST-1e  2\n",
       "6879  9280    TRAPPIST-1e  1\n",
       "\n",
       "[766 rows x 3 columns]"
      ]
     },
     "execution_count": 56,
     "metadata": {},
     "output_type": "execute_result"
    }
   ],
   "source": [
    "dest_group[dest_group['Group'].duplicated()]"
   ]
  },
  {
   "cell_type": "code",
   "execution_count": 57,
   "id": "9f97b366-6652-4ec0-8995-446605c8ad4d",
   "metadata": {},
   "outputs": [],
   "source": [
    "dest_group = dest_group.sort_values(0, ascending=False)"
   ]
  },
  {
   "cell_type": "code",
   "execution_count": 58,
   "id": "fdb83ca1-7f38-46ca-9686-6d916f3d86ae",
   "metadata": {},
   "outputs": [],
   "source": [
    "dest_group = dest_group.drop_duplicates()"
   ]
  },
  {
   "cell_type": "code",
   "execution_count": 59,
   "id": "b686bee0-c77d-44fd-8a62-58ff2181d182",
   "metadata": {},
   "outputs": [],
   "source": [
    "dest_dict = {}\n",
    "for g, d in zip(dest_group['Group'], dest_group['Destination']) :\n",
    "    dest_dict[g] = d"
   ]
  },
  {
   "cell_type": "code",
   "execution_count": 60,
   "id": "7818c4ea-d391-40e7-bc6c-fc40e24671dc",
   "metadata": {},
   "outputs": [],
   "source": [
    "with open('dest_dict.pkl', 'wb') as f :\n",
    "    pickle.dump(dest_dict, f)"
   ]
  },
  {
   "cell_type": "code",
   "execution_count": 61,
   "id": "a2e358cf-e48b-4e33-95ab-ad083909bc43",
   "metadata": {},
   "outputs": [],
   "source": [
    "data['Destination'].fillna(data['Group'].map(dest_dict), inplace=True)"
   ]
  },
  {
   "cell_type": "code",
   "execution_count": 62,
   "id": "c5dd098b-c478-4575-bd38-8e09b926c453",
   "metadata": {},
   "outputs": [
    {
     "data": {
      "text/plain": [
       "103"
      ]
     },
     "execution_count": 62,
     "metadata": {},
     "output_type": "execute_result"
    }
   ],
   "source": [
    "data['Destination'].isnull().sum()"
   ]
  },
  {
   "cell_type": "code",
   "execution_count": 63,
   "id": "af64a734-7d54-47a4-bab1-87c492a80f61",
   "metadata": {},
   "outputs": [],
   "source": [
    "data['Destination'].fillna('TRAPPIST-1e', inplace=True)"
   ]
  },
  {
   "cell_type": "code",
   "execution_count": 64,
   "id": "49da80dc-3e9c-438d-8cb3-4731fc614127",
   "metadata": {},
   "outputs": [
    {
     "data": {
      "text/plain": [
       "0"
      ]
     },
     "execution_count": 64,
     "metadata": {},
     "output_type": "execute_result"
    }
   ],
   "source": [
    "data['Destination'].isnull().sum()"
   ]
  },
  {
   "cell_type": "code",
   "execution_count": 65,
   "id": "7098c6e6-0280-45f7-bd74-9b95d6375f07",
   "metadata": {},
   "outputs": [
    {
     "data": {
      "text/plain": [
       "0.0"
      ]
     },
     "execution_count": 65,
     "metadata": {},
     "output_type": "execute_result"
    }
   ],
   "source": [
    "data[data['CryoSleep'] == True]['fee'].mean()"
   ]
  },
  {
   "cell_type": "code",
   "execution_count": 66,
   "id": "5748dd3d-78e3-4c1e-aa3d-a326b41a7a92",
   "metadata": {
    "tags": []
   },
   "outputs": [
    {
     "data": {
      "text/plain": [
       "92         0.0\n",
       "98       703.0\n",
       "104     2018.0\n",
       "111        0.0\n",
       "152      990.0\n",
       "         ...  \n",
       "8620       0.0\n",
       "8651       0.0\n",
       "8664       0.0\n",
       "8675    2056.0\n",
       "8687    3540.0\n",
       "Name: fee, Length: 217, dtype: float64"
      ]
     },
     "execution_count": 66,
     "metadata": {},
     "output_type": "execute_result"
    }
   ],
   "source": [
    "data[data['CryoSleep'].isnull()]['fee']"
   ]
  },
  {
   "cell_type": "code",
   "execution_count": 67,
   "id": "3c71fb57-6dd0-4fb1-8f54-360dc1ffcf45",
   "metadata": {},
   "outputs": [],
   "source": [
    "import numpy as np"
   ]
  },
  {
   "cell_type": "code",
   "execution_count": 68,
   "id": "d119fbf5-e724-4910-a0bd-2d6f5f5f4d6b",
   "metadata": {},
   "outputs": [],
   "source": [
    "data['CryoSleep'] = np.where(data['fee'] > 0, False, True)"
   ]
  },
  {
   "cell_type": "code",
   "execution_count": 69,
   "id": "56164442-777b-493b-97c9-620bcc561881",
   "metadata": {},
   "outputs": [
    {
     "data": {
      "text/plain": [
       "0"
      ]
     },
     "execution_count": 69,
     "metadata": {},
     "output_type": "execute_result"
    }
   ],
   "source": [
    "data['CryoSleep'].isnull().sum()"
   ]
  },
  {
   "cell_type": "code",
   "execution_count": 70,
   "id": "a3d0c281-2932-44e0-968c-fe2710086996",
   "metadata": {},
   "outputs": [
    {
     "data": {
      "text/plain": [
       "27.0"
      ]
     },
     "execution_count": 70,
     "metadata": {},
     "output_type": "execute_result"
    }
   ],
   "source": [
    "data['Age'].median()"
   ]
  },
  {
   "cell_type": "code",
   "execution_count": 73,
   "id": "34b8531d-2ee1-42dd-a096-3feeee9adecd",
   "metadata": {},
   "outputs": [],
   "source": [
    "data['Age'].fillna(data['Age'].median(), inplace=True)"
   ]
  },
  {
   "cell_type": "code",
   "execution_count": 74,
   "id": "358a9e79-b8ed-4fbe-8101-6ada9353e11c",
   "metadata": {
    "tags": []
   },
   "outputs": [
    {
     "data": {
      "text/plain": [
       "PassengerId       0\n",
       "HomePlanet        0\n",
       "CryoSleep         0\n",
       "Cabin           199\n",
       "Destination       0\n",
       "Age               0\n",
       "VIP               0\n",
       "RoomService       0\n",
       "FoodCourt         0\n",
       "ShoppingMall      0\n",
       "Spa               0\n",
       "VRDeck            0\n",
       "Name            200\n",
       "Transported       0\n",
       "Group             0\n",
       "Name2           200\n",
       "fee               0\n",
       "deck              0\n",
       "side              0\n",
       "dtype: int64"
      ]
     },
     "execution_count": 74,
     "metadata": {},
     "output_type": "execute_result"
    }
   ],
   "source": [
    "data.isnull().sum()"
   ]
  },
  {
   "cell_type": "code",
   "execution_count": 75,
   "id": "f3f427fb-561b-401c-9fd3-e5f1b80ee12a",
   "metadata": {},
   "outputs": [],
   "source": [
    "del_col = ['PassengerId', 'Cabin', 'Name', 'Name2']"
   ]
  },
  {
   "cell_type": "code",
   "execution_count": 76,
   "id": "0dd168ce-1f5e-4d81-a3e5-3d0a3a50d965",
   "metadata": {},
   "outputs": [],
   "source": [
    "data = data.drop(del_col, axis=1)"
   ]
  },
  {
   "cell_type": "code",
   "execution_count": 77,
   "id": "ebc9d72b-04f0-4763-9c93-b05152d03425",
   "metadata": {
    "tags": []
   },
   "outputs": [
    {
     "data": {
      "text/plain": [
       "HomePlanet      0\n",
       "CryoSleep       0\n",
       "Destination     0\n",
       "Age             0\n",
       "VIP             0\n",
       "RoomService     0\n",
       "FoodCourt       0\n",
       "ShoppingMall    0\n",
       "Spa             0\n",
       "VRDeck          0\n",
       "Transported     0\n",
       "Group           0\n",
       "fee             0\n",
       "deck            0\n",
       "side            0\n",
       "dtype: int64"
      ]
     },
     "execution_count": 77,
     "metadata": {},
     "output_type": "execute_result"
    }
   ],
   "source": [
    "data.isnull().sum()"
   ]
  },
  {
   "cell_type": "code",
   "execution_count": 78,
   "id": "3e1b6208-6ad6-4137-b595-94d56d090eb0",
   "metadata": {},
   "outputs": [
    {
     "data": {
      "text/html": [
       "<div>\n",
       "<style scoped>\n",
       "    .dataframe tbody tr th:only-of-type {\n",
       "        vertical-align: middle;\n",
       "    }\n",
       "\n",
       "    .dataframe tbody tr th {\n",
       "        vertical-align: top;\n",
       "    }\n",
       "\n",
       "    .dataframe thead th {\n",
       "        text-align: right;\n",
       "    }\n",
       "</style>\n",
       "<table border=\"1\" class=\"dataframe\">\n",
       "  <thead>\n",
       "    <tr style=\"text-align: right;\">\n",
       "      <th></th>\n",
       "      <th>HomePlanet</th>\n",
       "      <th>CryoSleep</th>\n",
       "      <th>Destination</th>\n",
       "      <th>Age</th>\n",
       "      <th>VIP</th>\n",
       "      <th>RoomService</th>\n",
       "      <th>FoodCourt</th>\n",
       "      <th>ShoppingMall</th>\n",
       "      <th>Spa</th>\n",
       "      <th>VRDeck</th>\n",
       "      <th>Transported</th>\n",
       "      <th>Group</th>\n",
       "      <th>fee</th>\n",
       "      <th>deck</th>\n",
       "      <th>side</th>\n",
       "    </tr>\n",
       "  </thead>\n",
       "  <tbody>\n",
       "    <tr>\n",
       "      <th>0</th>\n",
       "      <td>Europa</td>\n",
       "      <td>True</td>\n",
       "      <td>TRAPPIST-1e</td>\n",
       "      <td>39.0</td>\n",
       "      <td>False</td>\n",
       "      <td>0.0</td>\n",
       "      <td>0.0</td>\n",
       "      <td>0.0</td>\n",
       "      <td>0.0</td>\n",
       "      <td>0.0</td>\n",
       "      <td>False</td>\n",
       "      <td>0001</td>\n",
       "      <td>0.0</td>\n",
       "      <td>B</td>\n",
       "      <td>P</td>\n",
       "    </tr>\n",
       "    <tr>\n",
       "      <th>1</th>\n",
       "      <td>Earth</td>\n",
       "      <td>False</td>\n",
       "      <td>TRAPPIST-1e</td>\n",
       "      <td>24.0</td>\n",
       "      <td>False</td>\n",
       "      <td>109.0</td>\n",
       "      <td>9.0</td>\n",
       "      <td>25.0</td>\n",
       "      <td>549.0</td>\n",
       "      <td>44.0</td>\n",
       "      <td>True</td>\n",
       "      <td>0002</td>\n",
       "      <td>736.0</td>\n",
       "      <td>F</td>\n",
       "      <td>S</td>\n",
       "    </tr>\n",
       "    <tr>\n",
       "      <th>2</th>\n",
       "      <td>Europa</td>\n",
       "      <td>False</td>\n",
       "      <td>TRAPPIST-1e</td>\n",
       "      <td>58.0</td>\n",
       "      <td>True</td>\n",
       "      <td>43.0</td>\n",
       "      <td>3576.0</td>\n",
       "      <td>0.0</td>\n",
       "      <td>6715.0</td>\n",
       "      <td>49.0</td>\n",
       "      <td>False</td>\n",
       "      <td>0003</td>\n",
       "      <td>10383.0</td>\n",
       "      <td>A</td>\n",
       "      <td>S</td>\n",
       "    </tr>\n",
       "    <tr>\n",
       "      <th>3</th>\n",
       "      <td>Europa</td>\n",
       "      <td>False</td>\n",
       "      <td>TRAPPIST-1e</td>\n",
       "      <td>33.0</td>\n",
       "      <td>False</td>\n",
       "      <td>0.0</td>\n",
       "      <td>1283.0</td>\n",
       "      <td>371.0</td>\n",
       "      <td>3329.0</td>\n",
       "      <td>193.0</td>\n",
       "      <td>False</td>\n",
       "      <td>0003</td>\n",
       "      <td>5176.0</td>\n",
       "      <td>A</td>\n",
       "      <td>S</td>\n",
       "    </tr>\n",
       "    <tr>\n",
       "      <th>4</th>\n",
       "      <td>Earth</td>\n",
       "      <td>False</td>\n",
       "      <td>TRAPPIST-1e</td>\n",
       "      <td>16.0</td>\n",
       "      <td>False</td>\n",
       "      <td>303.0</td>\n",
       "      <td>70.0</td>\n",
       "      <td>151.0</td>\n",
       "      <td>565.0</td>\n",
       "      <td>2.0</td>\n",
       "      <td>True</td>\n",
       "      <td>0004</td>\n",
       "      <td>1091.0</td>\n",
       "      <td>F</td>\n",
       "      <td>S</td>\n",
       "    </tr>\n",
       "  </tbody>\n",
       "</table>\n",
       "</div>"
      ],
      "text/plain": [
       "  HomePlanet  CryoSleep  Destination   Age    VIP  RoomService  FoodCourt  \\\n",
       "0     Europa       True  TRAPPIST-1e  39.0  False          0.0        0.0   \n",
       "1      Earth      False  TRAPPIST-1e  24.0  False        109.0        9.0   \n",
       "2     Europa      False  TRAPPIST-1e  58.0   True         43.0     3576.0   \n",
       "3     Europa      False  TRAPPIST-1e  33.0  False          0.0     1283.0   \n",
       "4      Earth      False  TRAPPIST-1e  16.0  False        303.0       70.0   \n",
       "\n",
       "   ShoppingMall     Spa  VRDeck  Transported Group      fee deck side  \n",
       "0           0.0     0.0     0.0        False  0001      0.0    B    P  \n",
       "1          25.0   549.0    44.0         True  0002    736.0    F    S  \n",
       "2           0.0  6715.0    49.0        False  0003  10383.0    A    S  \n",
       "3         371.0  3329.0   193.0        False  0003   5176.0    A    S  \n",
       "4         151.0   565.0     2.0         True  0004   1091.0    F    S  "
      ]
     },
     "execution_count": 78,
     "metadata": {},
     "output_type": "execute_result"
    }
   ],
   "source": [
    "data.head()"
   ]
  },
  {
   "cell_type": "code",
   "execution_count": 79,
   "id": "3965babd-bdeb-498b-afd1-d7eb8aee5bcc",
   "metadata": {},
   "outputs": [],
   "source": [
    "from sklearn.preprocessing import LabelEncoder"
   ]
  },
  {
   "cell_type": "code",
   "execution_count": 83,
   "id": "ba8aee90-5a66-4031-8540-9c91374eea45",
   "metadata": {},
   "outputs": [],
   "source": [
    "obj_col = []\n",
    "for col, types in zip(data.dtypes.index, data.dtypes.values) :\n",
    "    if(types == 'object') :\n",
    "        obj_col.append(col)"
   ]
  },
  {
   "cell_type": "code",
   "execution_count": null,
   "id": "4804419a-8557-4901-a0bc-a92345863ae0",
   "metadata": {},
   "outputs": [],
   "source": [
    "data['CryoSleep'].isnull().sum()"
   ]
  },
  {
   "cell_type": "code",
   "execution_count": 84,
   "id": "420cdb67-eece-45a8-9021-85e1d29c4624",
   "metadata": {},
   "outputs": [
    {
     "data": {
      "text/plain": [
       "['HomePlanet', 'Destination', 'Group', 'deck', 'side']"
      ]
     },
     "execution_count": 84,
     "metadata": {},
     "output_type": "execute_result"
    }
   ],
   "source": [
    "obj_col"
   ]
  },
  {
   "cell_type": "code",
   "execution_count": 86,
   "id": "0b1955e1-d592-43a3-a4a1-dcec7bbc74d4",
   "metadata": {},
   "outputs": [],
   "source": [
    "for col in obj_col :\n",
    "    label = LabelEncoder()\n",
    "    data[col] = label.fit_transform(data[col])\n",
    "    \n",
    "    "
   ]
  },
  {
   "cell_type": "code",
   "execution_count": 89,
   "id": "0b6e7e35-253e-47b6-993a-d447801d086a",
   "metadata": {},
   "outputs": [
    {
     "data": {
      "text/plain": [
       "Index(['HomePlanet', 'CryoSleep', 'Destination', 'Age', 'VIP', 'RoomService',\n",
       "       'FoodCourt', 'ShoppingMall', 'Spa', 'VRDeck', 'Transported', 'Group',\n",
       "       'fee', 'deck', 'side'],\n",
       "      dtype='object')"
      ]
     },
     "execution_count": 89,
     "metadata": {},
     "output_type": "execute_result"
    }
   ],
   "source": [
    "data.columns"
   ]
  },
  {
   "cell_type": "code",
   "execution_count": 310,
   "id": "4dde5729-5424-4ac2-9a15-af38cfc89748",
   "metadata": {},
   "outputs": [],
   "source": [
    "X = data.drop(['Transported','Group'], axis=1)\n",
    "Y = data['Transported']"
   ]
  },
  {
   "cell_type": "code",
   "execution_count": 311,
   "id": "5cc89900-05a3-41c5-9cf5-7973cd6547cf",
   "metadata": {},
   "outputs": [],
   "source": [
    "from sklearn.model_selection import train_test_split\n",
    "from sklearn.ensemble import RandomForestClassifier\n",
    "from sklearn.ensemble import GradientBoostingClassifier\n",
    "from sklearn.ensemble import AdaBoostClassifier\n",
    "from sklearn.ensemble import VotingClassifier"
   ]
  },
  {
   "cell_type": "code",
   "execution_count": 312,
   "id": "cbdfe496-f3e7-4392-9bd3-5f20139344bb",
   "metadata": {},
   "outputs": [],
   "source": [
    "x_train, x_test, y_train, y_test = train_test_split(X, Y, test_size=0.2, stratify=Y, random_state=0)"
   ]
  },
  {
   "cell_type": "code",
   "execution_count": 313,
   "id": "492a510c-95ca-498d-ba0b-cd4de411d2f7",
   "metadata": {},
   "outputs": [],
   "source": [
    "rfc = RandomForestClassifier()"
   ]
  },
  {
   "cell_type": "code",
   "execution_count": 314,
   "id": "5bd60878-3e49-4286-9aa1-b748a2a02a59",
   "metadata": {},
   "outputs": [
    {
     "data": {
      "text/plain": [
       "RandomForestClassifier()"
      ]
     },
     "execution_count": 314,
     "metadata": {},
     "output_type": "execute_result"
    }
   ],
   "source": [
    "rfc.fit(x_train, y_train)"
   ]
  },
  {
   "cell_type": "code",
   "execution_count": 315,
   "id": "6b4b4318-1e38-425b-a1f4-1696196f5afa",
   "metadata": {},
   "outputs": [
    {
     "data": {
      "text/plain": [
       "0.9419039401783147"
      ]
     },
     "execution_count": 315,
     "metadata": {},
     "output_type": "execute_result"
    }
   ],
   "source": [
    "rfc.score(x_train, y_train)"
   ]
  },
  {
   "cell_type": "code",
   "execution_count": 316,
   "id": "5c0860a0-1925-406a-8543-ee82a61de29c",
   "metadata": {},
   "outputs": [
    {
     "data": {
      "text/plain": [
       "0.7757331799884991"
      ]
     },
     "execution_count": 316,
     "metadata": {},
     "output_type": "execute_result"
    }
   ],
   "source": [
    "rfc.score(x_test, y_test)"
   ]
  },
  {
   "cell_type": "code",
   "execution_count": 317,
   "id": "377ea1ec-d011-4908-aa53-88cb1db9d079",
   "metadata": {},
   "outputs": [
    {
     "data": {
      "text/plain": [
       "array(['HomePlanet', 'CryoSleep', 'Destination', 'Age', 'VIP',\n",
       "       'RoomService', 'FoodCourt', 'ShoppingMall', 'Spa', 'VRDeck', 'fee',\n",
       "       'deck', 'side'], dtype=object)"
      ]
     },
     "execution_count": 317,
     "metadata": {},
     "output_type": "execute_result"
    }
   ],
   "source": [
    "rfc.feature_names_in_"
   ]
  },
  {
   "cell_type": "code",
   "execution_count": 318,
   "id": "6d6476fb-173e-41c4-8dfe-36eb377c7079",
   "metadata": {},
   "outputs": [
    {
     "data": {
      "text/plain": [
       "array([0.03844737, 0.07113612, 0.02166046, 0.1406655 , 0.00246919,\n",
       "       0.09619787, 0.09945855, 0.08194453, 0.09589026, 0.09471778,\n",
       "       0.16650616, 0.07156105, 0.01934517])"
      ]
     },
     "execution_count": 318,
     "metadata": {},
     "output_type": "execute_result"
    }
   ],
   "source": [
    "rfc.feature_importances_"
   ]
  },
  {
   "cell_type": "code",
   "execution_count": 319,
   "id": "cc05d6b3-f7ef-4450-a5af-2aa02169b95f",
   "metadata": {},
   "outputs": [],
   "source": [
    "abc = AdaBoostClassifier()"
   ]
  },
  {
   "cell_type": "code",
   "execution_count": 320,
   "id": "1d091caf-3cfe-4728-b78d-3be1eedf3fa9",
   "metadata": {},
   "outputs": [
    {
     "data": {
      "text/plain": [
       "AdaBoostClassifier()"
      ]
     },
     "execution_count": 320,
     "metadata": {},
     "output_type": "execute_result"
    }
   ],
   "source": [
    "abc.fit(x_train, y_train)"
   ]
  },
  {
   "cell_type": "code",
   "execution_count": 321,
   "id": "6c3cfb91-172e-49f5-8f25-408e26aeae93",
   "metadata": {},
   "outputs": [
    {
     "data": {
      "text/plain": [
       "0.7935001438021283"
      ]
     },
     "execution_count": 321,
     "metadata": {},
     "output_type": "execute_result"
    }
   ],
   "source": [
    "abc.score(x_train, y_train)"
   ]
  },
  {
   "cell_type": "code",
   "execution_count": 322,
   "id": "957d9aa7-8e6e-439d-942e-004af27ec441",
   "metadata": {},
   "outputs": [
    {
     "data": {
      "text/plain": [
       "0.7809085681426107"
      ]
     },
     "execution_count": 322,
     "metadata": {},
     "output_type": "execute_result"
    }
   ],
   "source": [
    "abc.score(x_test, y_test)"
   ]
  },
  {
   "cell_type": "code",
   "execution_count": 323,
   "id": "6aeb79f7-7324-40ef-8f1a-3dbca1631309",
   "metadata": {},
   "outputs": [],
   "source": [
    "gbc = GradientBoostingClassifier()"
   ]
  },
  {
   "cell_type": "code",
   "execution_count": 324,
   "id": "f9f23865-5482-4627-a3c1-77eb221cf389",
   "metadata": {},
   "outputs": [
    {
     "data": {
      "text/plain": [
       "GradientBoostingClassifier()"
      ]
     },
     "execution_count": 324,
     "metadata": {},
     "output_type": "execute_result"
    }
   ],
   "source": [
    "gbc.fit(x_train, y_train)"
   ]
  },
  {
   "cell_type": "code",
   "execution_count": 325,
   "id": "0c9f52ed-4abd-489b-953f-5b99abd1a362",
   "metadata": {},
   "outputs": [
    {
     "data": {
      "text/plain": [
       "0.813920046016681"
      ]
     },
     "execution_count": 325,
     "metadata": {},
     "output_type": "execute_result"
    }
   ],
   "source": [
    "gbc.score(x_train, y_train)"
   ]
  },
  {
   "cell_type": "code",
   "execution_count": 326,
   "id": "e3103501-b18e-4fb1-bcae-b5d8e26c8f1a",
   "metadata": {},
   "outputs": [
    {
     "data": {
      "text/plain": [
       "0.78953421506613"
      ]
     },
     "execution_count": 326,
     "metadata": {},
     "output_type": "execute_result"
    }
   ],
   "source": [
    "gbc.score(x_test, y_test)"
   ]
  },
  {
   "cell_type": "code",
   "execution_count": 327,
   "id": "f4025a2e-cbe8-4071-8a35-c7449e2198d2",
   "metadata": {},
   "outputs": [],
   "source": [
    "model_list = [('abc', abc),('gbc', gbc), ('rfc', rfc)]"
   ]
  },
  {
   "cell_type": "code",
   "execution_count": 328,
   "id": "77cc82e6-15cd-465c-9c40-3c56c2d9faf5",
   "metadata": {},
   "outputs": [],
   "source": [
    "vc_model = VotingClassifier(estimators=model_list)"
   ]
  },
  {
   "cell_type": "code",
   "execution_count": 329,
   "id": "14062082-b106-4cf7-9155-da8dba09fd38",
   "metadata": {},
   "outputs": [
    {
     "data": {
      "text/plain": [
       "VotingClassifier(estimators=[('abc', AdaBoostClassifier()),\n",
       "                             ('gbc', GradientBoostingClassifier()),\n",
       "                             ('rfc', RandomForestClassifier())])"
      ]
     },
     "execution_count": 329,
     "metadata": {},
     "output_type": "execute_result"
    }
   ],
   "source": [
    "vc_model.fit(x_train, y_train)"
   ]
  },
  {
   "cell_type": "code",
   "execution_count": 330,
   "id": "58649e2f-72b5-4531-9187-b23ae82974f8",
   "metadata": {},
   "outputs": [
    {
     "data": {
      "text/plain": [
       "0.7878090856814262"
      ]
     },
     "execution_count": 330,
     "metadata": {},
     "output_type": "execute_result"
    }
   ],
   "source": [
    "vc_model.score(x_test, y_test)"
   ]
  },
  {
   "cell_type": "code",
   "execution_count": 331,
   "id": "0aa792c3-a7d4-4cda-8ba1-d2ba363df8b2",
   "metadata": {},
   "outputs": [],
   "source": [
    "import pickle"
   ]
  },
  {
   "cell_type": "code",
   "execution_count": 332,
   "id": "a3d6a535-8856-4903-9e3e-5b3804424c34",
   "metadata": {},
   "outputs": [],
   "source": [
    "with open('vc_model.pkl', 'wb') as f :\n",
    "    pickle.dump(vc_model, f)"
   ]
  },
  {
   "cell_type": "code",
   "execution_count": null,
   "id": "6785c76d-81d1-4064-b194-674c4c682b9d",
   "metadata": {},
   "outputs": [],
   "source": [
    "data['deck'] = data['Cabin'].str.split('/').str[0]"
   ]
  },
  {
   "cell_type": "code",
   "execution_count": null,
   "id": "22d05ca4-1e0a-41c3-9fa3-e70b2ef3fd1f",
   "metadata": {},
   "outputs": [],
   "source": [
    "data['side'] = data['Cabin'].str.split('/').str[-1]"
   ]
  },
  {
   "cell_type": "code",
   "execution_count": null,
   "id": "89ced28c-2569-432c-95d2-2fdb6e7cb17a",
   "metadata": {},
   "outputs": [],
   "source": [
    "real['deck'] = real['Cabin'].str.split('/').str[0]"
   ]
  },
  {
   "cell_type": "code",
   "execution_count": null,
   "id": "3bf563b5-3c45-4355-88c0-07170032829e",
   "metadata": {},
   "outputs": [],
   "source": [
    "data.groupby(['deck','CryoSleep'])['PassengerId'].count()"
   ]
  },
  {
   "cell_type": "code",
   "execution_count": null,
   "id": "7dd8455f-eaee-4110-9834-3503bfffad1c",
   "metadata": {},
   "outputs": [],
   "source": [
    "deck_dict = {'A':'False','B':'True','C':'False','D':'False','E':'False','F':'False','G':'True','T':'False'}"
   ]
  },
  {
   "cell_type": "code",
   "execution_count": null,
   "id": "695d1352-f508-4557-886f-88a5402cc84b",
   "metadata": {},
   "outputs": [],
   "source": [
    "data['CryoSleep'].fillna(data['deck'].map(deck_dict))"
   ]
  },
  {
   "cell_type": "code",
   "execution_count": null,
   "id": "d57beb6b-990e-4015-8767-80f21adaec61",
   "metadata": {},
   "outputs": [],
   "source": [
    "group_deck = data.groupby(['Group','deck'])['PassengerId'].count().reset_index()"
   ]
  },
  {
   "cell_type": "code",
   "execution_count": null,
   "id": "b38f265e-6899-489b-8ee9-69c5c019ef60",
   "metadata": {},
   "outputs": [],
   "source": [
    "data['deck'].value_counts()"
   ]
  },
  {
   "cell_type": "code",
   "execution_count": null,
   "id": "6a124beb-1649-448a-8205-cf1c3e5fa2ee",
   "metadata": {},
   "outputs": [],
   "source": [
    "data[data['Group'] == '0101']"
   ]
  },
  {
   "cell_type": "code",
   "execution_count": null,
   "id": "c446dbf9-f61e-41a6-960c-2c99e79bad69",
   "metadata": {},
   "outputs": [],
   "source": [
    "data[data['VIP'] == True]['deck'].value_counts()"
   ]
  },
  {
   "cell_type": "code",
   "execution_count": null,
   "id": "34aed64f-d859-40ec-b55c-02ef3bfe4f48",
   "metadata": {},
   "outputs": [],
   "source": [
    "data[data['VIP'] == True]['side'].value_counts()"
   ]
  },
  {
   "cell_type": "code",
   "execution_count": null,
   "id": "224bf77b-a574-456d-bdc1-2506189819ef",
   "metadata": {},
   "outputs": [],
   "source": [
    "data[data['Cabin'].isnull()]['Group']"
   ]
  },
  {
   "cell_type": "markdown",
   "id": "05dd2de7-654f-43e3-8cd1-59199937ba19",
   "metadata": {},
   "source": [
    "-------"
   ]
  },
  {
   "cell_type": "code",
   "execution_count": null,
   "id": "bc8ab1f8-01ad-46cc-a065-c5cf19027814",
   "metadata": {},
   "outputs": [],
   "source": [
    "fee_col = ['RoomService', 'FoodCourt', 'ShoppingMall', 'Spa', 'VRDeck']"
   ]
  },
  {
   "cell_type": "code",
   "execution_count": null,
   "id": "e878312a-5a52-4017-9ba0-5f2cefb86eab",
   "metadata": {},
   "outputs": [],
   "source": [
    "for col in fee_col :\n",
    "    print(data[data['Age'] <= 12][col].mean())"
   ]
  },
  {
   "cell_type": "code",
   "execution_count": null,
   "id": "3e2b205d-59f8-4e19-bce4-9128a09fdcb9",
   "metadata": {},
   "outputs": [],
   "source": [
    "data[data['Age'] == 0]['VIP'].value_counts()"
   ]
  },
  {
   "cell_type": "code",
   "execution_count": null,
   "id": "0a88f912-5ccc-429d-86db-294ab917b166",
   "metadata": {},
   "outputs": [],
   "source": [
    "data[data['VIP'].isnull()]['HomePlanet'].value_counts()"
   ]
  },
  {
   "cell_type": "code",
   "execution_count": null,
   "id": "8145ce07-5a54-40b2-befd-7ddfd218b2e0",
   "metadata": {},
   "outputs": [],
   "source": [
    "data[data['VIP'] == True]['HomePlanet'].value_counts()"
   ]
  },
  {
   "cell_type": "code",
   "execution_count": null,
   "id": "0b71c3d0-99e2-42ed-a3bd-0a7784f5cff3",
   "metadata": {},
   "outputs": [],
   "source": [
    "data.groupby(['side','Transported'])['total'].count()"
   ]
  },
  {
   "cell_type": "code",
   "execution_count": null,
   "id": "74514b6d-c60c-401f-9c95-6aa1c4103ad4",
   "metadata": {},
   "outputs": [],
   "source": [
    "data.groupby(['HomePlanet','Transported'])['total'].count()"
   ]
  },
  {
   "cell_type": "code",
   "execution_count": null,
   "id": "7990d4bd-9988-4cd9-8e9e-2424e7179989",
   "metadata": {},
   "outputs": [],
   "source": [
    "data.groupby(['Transported'])['total'].mean()"
   ]
  },
  {
   "cell_type": "code",
   "execution_count": null,
   "id": "ff830c75-d431-4aea-be6a-8ee53bc18e5d",
   "metadata": {},
   "outputs": [],
   "source": [
    "data.groupby(['Transported'])['Age'].mean()"
   ]
  },
  {
   "cell_type": "code",
   "execution_count": null,
   "id": "856e908e-ad0c-4fa8-8162-d9f64eec5f5a",
   "metadata": {},
   "outputs": [],
   "source": [
    "data[data['VIP'] == True]"
   ]
  },
  {
   "cell_type": "code",
   "execution_count": null,
   "id": "da9f4201-de58-40a6-8c1a-899bbee41412",
   "metadata": {},
   "outputs": [],
   "source": [
    "data.groupby('Group').size().reset_index()"
   ]
  },
  {
   "cell_type": "code",
   "execution_count": null,
   "id": "585e582b-78f2-4214-8586-e7cb088ff463",
   "metadata": {},
   "outputs": [],
   "source": [
    "data[data['Age'].isnull()]['VIP'].value_counts()"
   ]
  },
  {
   "cell_type": "code",
   "execution_count": null,
   "id": "f817eb85-19f2-4e36-af90-551e6619f564",
   "metadata": {},
   "outputs": [],
   "source": [
    "data[data['VIP'] == True]['Group']"
   ]
  },
  {
   "cell_type": "code",
   "execution_count": null,
   "id": "6c555edd-c3a2-450d-8739-2aad7ff99133",
   "metadata": {},
   "outputs": [],
   "source": [
    "data['Group'].value_counts()"
   ]
  },
  {
   "cell_type": "code",
   "execution_count": null,
   "id": "1d1c2047-820d-4c4d-8a49-5b9dd29dfcbd",
   "metadata": {},
   "outputs": [],
   "source": [
    "data[data['Age'] <= 12]"
   ]
  },
  {
   "cell_type": "code",
   "execution_count": null,
   "id": "b04742a9-5ce3-4f03-bfb1-3af1fbfdc089",
   "metadata": {},
   "outputs": [],
   "source": [
    "data[data['Age'].isnull()]"
   ]
  },
  {
   "cell_type": "code",
   "execution_count": null,
   "id": "14bc8c86-21a6-48b0-a0a3-5361832b35ab",
   "metadata": {},
   "outputs": [],
   "source": [
    "data['total'] = data['RoomService'] + data['FoodCourt'] + data['ShoppingMall'] + data['Spa'] + data['VRDeck']"
   ]
  },
  {
   "cell_type": "code",
   "execution_count": null,
   "id": "78e2cb98-8042-4d1d-b9c1-124387ccfb09",
   "metadata": {},
   "outputs": [],
   "source": [
    "data[data['VIP'] == False]['total'].max()"
   ]
  },
  {
   "cell_type": "code",
   "execution_count": null,
   "id": "0b39eec2-656a-49cf-b676-79ca7cf265d6",
   "metadata": {},
   "outputs": [],
   "source": [
    "data[data['VIP'] == True]['total'].max()"
   ]
  },
  {
   "cell_type": "code",
   "execution_count": null,
   "id": "60b4f8d2-9a68-41bc-9642-9864db565d4f",
   "metadata": {},
   "outputs": [],
   "source": [
    "data.groupby('VIP')['total'].median()"
   ]
  },
  {
   "cell_type": "code",
   "execution_count": null,
   "id": "078baf60-af77-40c2-a71f-f0c0636e6d1c",
   "metadata": {},
   "outputs": [],
   "source": [
    "data.groupby('VIP')['total'].mean()"
   ]
  },
  {
   "cell_type": "markdown",
   "id": "144f4ee8-b66f-4348-9662-745f08a1976f",
   "metadata": {},
   "source": [
    "---"
   ]
  },
  {
   "cell_type": "code",
   "execution_count": null,
   "id": "dd9d1f63-c66c-4e6d-8633-7c86a036c879",
   "metadata": {},
   "outputs": [],
   "source": [
    "real = pd.read_csv('test.csv')"
   ]
  },
  {
   "cell_type": "code",
   "execution_count": null,
   "id": "fa3dfb25-f73e-4bb0-9ce0-0e6abd2c7d6f",
   "metadata": {},
   "outputs": [],
   "source": [
    "real.shape"
   ]
  },
  {
   "cell_type": "code",
   "execution_count": null,
   "id": "50bcf9de-a206-425f-9a28-928dac543a63",
   "metadata": {},
   "outputs": [],
   "source": [
    "real.head()"
   ]
  },
  {
   "cell_type": "code",
   "execution_count": null,
   "id": "7692049d-1567-48a4-8e4b-7ee51f665ae0",
   "metadata": {},
   "outputs": [],
   "source": [
    "real.isnull().sum()"
   ]
  },
  {
   "cell_type": "code",
   "execution_count": null,
   "id": "b338e149-0c8b-423b-9793-c166c4ea32f3",
   "metadata": {},
   "outputs": [],
   "source": [
    "real[real['VIP'].isnull()]['HomePlanet'].value_counts()"
   ]
  },
  {
   "cell_type": "code",
   "execution_count": null,
   "id": "387e2977-c43e-4029-aae7-02aa1d12098f",
   "metadata": {},
   "outputs": [],
   "source": [
    "real[real['VIP'] == True]['HomePlanet'].value_counts()"
   ]
  },
  {
   "cell_type": "code",
   "execution_count": null,
   "id": "22e2232b-0682-4ef5-9f9c-ca490ae3f865",
   "metadata": {},
   "outputs": [],
   "source": [
    "submit = pd.read_csv('sample_submission.csv')"
   ]
  },
  {
   "cell_type": "code",
   "execution_count": null,
   "id": "a7152fa7-142b-4b1a-bcc6-b0ad9af5cb67",
   "metadata": {},
   "outputs": [],
   "source": [
    "submit.head()"
   ]
  }
 ],
 "metadata": {
  "kernelspec": {
   "display_name": "Python 3 (ipykernel)",
   "language": "python",
   "name": "python3"
  },
  "language_info": {
   "codemirror_mode": {
    "name": "ipython",
    "version": 3
   },
   "file_extension": ".py",
   "mimetype": "text/x-python",
   "name": "python",
   "nbconvert_exporter": "python",
   "pygments_lexer": "ipython3",
   "version": "3.9.12"
  }
 },
 "nbformat": 4,
 "nbformat_minor": 5
}
